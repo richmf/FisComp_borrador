{
 "cells": [
  {
   "cell_type": "code",
   "execution_count": 1,
   "id": "35811e8e",
   "metadata": {},
   "outputs": [],
   "source": [
    "from pylab import *\n",
    "from matplotlib import animation,rc\n",
    "#from IPython.display import HTML"
   ]
  },
  {
   "cell_type": "code",
   "execution_count": 2,
   "id": "aae0a448",
   "metadata": {},
   "outputs": [
    {
     "data": {
      "text/plain": [
       "(100, 100, 200)"
      ]
     },
     "execution_count": 2,
     "metadata": {},
     "output_type": "execute_result"
    }
   ],
   "source": [
    "x , y = linspace(-1,1,100) , linspace(-1,1,100)\n",
    "XX,YY = meshgrid(x,y)\n",
    "sol = load('sol_EcCalor2D_D0-1_rich_t1.npy')\n",
    "sol.shape"
   ]
  },
  {
   "cell_type": "code",
   "execution_count": 3,
   "id": "eae48a14",
   "metadata": {},
   "outputs": [],
   "source": [
    "%%capture\n",
    "fig = figure(figsize=(10, 5))\n",
    "ejes1 = fig.add_subplot(1, 2, 1)\n",
    "ejes1.set_xlim((-1,1)),ejes1.set_ylim((-1,1)),ejes1.set_aspect('equal')\n",
    "ejes1.contourf(XX,YY,sol[:,:,0])\n",
    "#\n",
    "ejes2 = fig.add_subplot(1,2,2,projection='3d')\n",
    "ejes2.set_xlim((-1,1)),ejes2.set_ylim((-1,1)),ejes2.set_zlim((0,1))\n",
    "\n",
    "ejes2.plot_surface(XX, YY, sol[:,:,0],linewidth=0, antialiased=False,cmap=cm.rainbow)\n",
    "\n",
    "ejes2.view_init(30, 45)\n",
    "\n",
    "def anima(i,ejes1,ejes2,fig):\n",
    "    ejes2.cla()\n",
    "    grafica = (ejes1.contourf(XX,YY,sol[:,:,i]),\n",
    "               ejes2.plot_surface(XX, YY, sol[:,:,i],linewidth=0, antialiased=False,cmap=cm.rainbow))\n",
    "    ejes2.view_init(30, 30+i)\n",
    "    return grafica\n",
    "\n",
    "pelicula = animation.FuncAnimation(fig,anima,frames=sol.shape[2],fargs=(ejes1,ejes2,fig),interval=150)"
   ]
  },
  {
   "cell_type": "code",
   "execution_count": 4,
   "id": "b82335fc",
   "metadata": {},
   "outputs": [],
   "source": [
    "pelicula.save('calor_2D.mp4')"
   ]
  },
  {
   "cell_type": "code",
   "execution_count": null,
   "id": "764ea949",
   "metadata": {},
   "outputs": [],
   "source": []
  }
 ],
 "metadata": {
  "kernelspec": {
   "display_name": "Python 3 (ipykernel)",
   "language": "python",
   "name": "python3"
  },
  "language_info": {
   "codemirror_mode": {
    "name": "ipython",
    "version": 3
   },
   "file_extension": ".py",
   "mimetype": "text/x-python",
   "name": "python",
   "nbconvert_exporter": "python",
   "pygments_lexer": "ipython3",
   "version": "3.9.12"
  }
 },
 "nbformat": 4,
 "nbformat_minor": 5
}

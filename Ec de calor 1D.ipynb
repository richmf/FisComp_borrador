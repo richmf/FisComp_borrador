{
 "cells": [
  {
   "cell_type": "code",
   "execution_count": 1,
   "id": "f173a80e",
   "metadata": {},
   "outputs": [],
   "source": [
    "from pylab import *"
   ]
  },
  {
   "cell_type": "markdown",
   "id": "1c39cd5e",
   "metadata": {},
   "source": [
    "La evolución de la ecuación de Fourier es: $\\Psi^{j+1} = \\mathbb{A}^{-1} \\mathbb{B} \\Psi^{j}$\n",
    "\n",
    "$$A=\n",
    "\\left( \\begin{array}{cccccc}\n",
    "2(1+r) & -r & 0 & 0 & \\dots & 0 \\\\\n",
    "-r & 2(1+r) & -r & 0 & \\dots & 0 \\\\\n",
    "0 & -r & 2(1+r) & -r & \\dots & 0\\\\\n",
    "\\vdots & \\vdots & \\vdots & \\vdots & \\ddots & \\vdots \\\\ \n",
    "0 & \\dots & 0 & 0 & -r & 2(1+r)\\\\\n",
    "\\end{array} \\right)\n",
    "$$\n",
    "\n",
    "$$B=\n",
    "\\left( \\begin{array}{cccccc}\n",
    "2(1-r) & r & 0 & 0 & \\dots & 0 \\\\\n",
    "r & 2(1-r) & r & 0 & \\dots & 0 \\\\\n",
    "0 & r & 2(1-r) & r & \\dots & 0\\\\\n",
    "\\vdots & \\vdots & \\vdots & \\vdots & \\ddots & \\vdots \\\\ \n",
    "0 & \\dots & 0 & 0 & r & 2(1-r)\\\\\n",
    "\\end{array} \\right)\n",
    "$$"
   ]
  },
  {
   "cell_type": "code",
   "execution_count": 35,
   "id": "1bdbc0ce",
   "metadata": {},
   "outputs": [
    {
     "data": {
      "image/png": "[encoded data removed]",
      "text/plain": [
       "<Figure size 432x288 with 1 Axes>"
      ]
     },
     "metadata": {
      "needs_background": "light"
     },
     "output_type": "display_data"
    }
   ],
   "source": [
    "x = linspace(0,1,50)\n",
    "psi_ini = x*(1-x)*exp(x)\n",
    "plot(x,psi_ini)\n",
    "show()"
   ]
  },
  {
   "cell_type": "code",
   "execution_count": null,
   "id": "f5dbf595",
   "metadata": {},
   "outputs": [],
   "source": []
  },
  {
   "cell_type": "code",
   "execution_count": null,
   "id": "3497ad90",
   "metadata": {},
   "outputs": [],
   "source": []
  },
  {
   "cell_type": "code",
   "execution_count": null,
   "id": "7e53e3c0",
   "metadata": {},
   "outputs": [],
   "source": []
  },
  {
   "cell_type": "code",
   "execution_count": null,
   "id": "76a1f033",
   "metadata": {},
   "outputs": [],
   "source": []
  },
  {
   "cell_type": "code",
   "execution_count": null,
   "id": "eefced7c",
   "metadata": {},
   "outputs": [],
   "source": []
  }
 ],
 "metadata": {
  "kernelspec": {
   "display_name": "Python 3 (ipykernel)",
   "language": "python",
   "name": "python3"
  },
  "language_info": {
   "codemirror_mode": {
    "name": "ipython",
    "version": 3
   },
   "file_extension": ".py",
   "mimetype": "text/x-python",
   "name": "python",
   "nbconvert_exporter": "python",
   "pygments_lexer": "ipython3",
   "version": "3.9.12"
  }
 },
 "nbformat": 4,
 "nbformat_minor": 5
}
